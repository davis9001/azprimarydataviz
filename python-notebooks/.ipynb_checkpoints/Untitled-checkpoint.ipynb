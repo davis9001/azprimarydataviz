{
 "cells": [
  {
   "cell_type": "code",
   "execution_count": 74,
   "metadata": {
    "collapsed": false
   },
   "outputs": [
    {
     "data": {
      "text/plain": [
       "'Running Pandas Version: 0.18.1'"
      ]
     },
     "execution_count": 74,
     "metadata": {},
     "output_type": "execute_result"
    }
   ],
   "source": [
    "import pandas as pd\n",
    "import numpy as np\n",
    "import matplotlib.pyplot as plt\n",
    "%matplotlib inline\n",
    "'Running Pandas Version: ' + pd.__version__"
   ]
  },
  {
   "cell_type": "code",
   "execution_count": 75,
   "metadata": {
    "collapsed": false
   },
   "outputs": [
    {
     "data": {
      "text/html": [
       "<div>\n",
       "<table border=\"1\" class=\"dataframe\">\n",
       "  <thead>\n",
       "    <tr style=\"text-align: right;\">\n",
       "      <th></th>\n",
       "      <th>PRECINCT_NAME</th>\n",
       "      <th>CANDIDATE_FULL_NAME</th>\n",
       "      <th>contest_party_id</th>\n",
       "      <th>candidate_party_id</th>\n",
       "      <th>CONTEST_TYPE</th>\n",
       "      <th>contest_id</th>\n",
       "      <th>CONTEST_ORDER</th>\n",
       "      <th>CANDIDATE_ORDER</th>\n",
       "      <th>CONTEST_FULL_NAME</th>\n",
       "      <th>TOTAL</th>\n",
       "      <th>PRECINCT_ID</th>\n",
       "      <th>precinct_order</th>\n",
       "      <th>contest_vote_for</th>\n",
       "      <th>PROCESSED_DONE</th>\n",
       "      <th>PROCESSED_STARTED</th>\n",
       "      <th>CONTEST_TOTAL</th>\n",
       "      <th>IS_WRITEIN</th>\n",
       "      <th>undervote</th>\n",
       "      <th>overvote</th>\n",
       "    </tr>\n",
       "  </thead>\n",
       "  <tbody>\n",
       "    <tr>\n",
       "      <th>239</th>\n",
       "      <td>0009 ALAMO</td>\n",
       "      <td>STEWART, MARK</td>\n",
       "      <td>0.0</td>\n",
       "      <td>0.0</td>\n",
       "      <td>0</td>\n",
       "      <td>352</td>\n",
       "      <td>352</td>\n",
       "      <td>8</td>\n",
       "      <td>COUNCILMEMBER CITY OF CHANDLER (vote for 3)</td>\n",
       "      <td>147</td>\n",
       "      <td>9</td>\n",
       "      <td>9</td>\n",
       "      <td>3</td>\n",
       "      <td>1</td>\n",
       "      <td>1</td>\n",
       "      <td>1254</td>\n",
       "      <td>0</td>\n",
       "      <td>381</td>\n",
       "      <td>9</td>\n",
       "    </tr>\n",
       "    <tr>\n",
       "      <th>378</th>\n",
       "      <td>0024 APPLEBY</td>\n",
       "      <td>STEWART, MARK</td>\n",
       "      <td>0.0</td>\n",
       "      <td>0.0</td>\n",
       "      <td>0</td>\n",
       "      <td>352</td>\n",
       "      <td>352</td>\n",
       "      <td>8</td>\n",
       "      <td>COUNCILMEMBER CITY OF CHANDLER (vote for 3)</td>\n",
       "      <td>214</td>\n",
       "      <td>24</td>\n",
       "      <td>24</td>\n",
       "      <td>3</td>\n",
       "      <td>1</td>\n",
       "      <td>1</td>\n",
       "      <td>1770</td>\n",
       "      <td>0</td>\n",
       "      <td>558</td>\n",
       "      <td>12</td>\n",
       "    </tr>\n",
       "    <tr>\n",
       "      <th>194</th>\n",
       "      <td>0065 BULLMOOSE</td>\n",
       "      <td>STEWART, MARK</td>\n",
       "      <td>0.0</td>\n",
       "      <td>0.0</td>\n",
       "      <td>0</td>\n",
       "      <td>352</td>\n",
       "      <td>352</td>\n",
       "      <td>8</td>\n",
       "      <td>COUNCILMEMBER CITY OF CHANDLER (vote for 3)</td>\n",
       "      <td>113</td>\n",
       "      <td>65</td>\n",
       "      <td>65</td>\n",
       "      <td>3</td>\n",
       "      <td>1</td>\n",
       "      <td>1</td>\n",
       "      <td>857</td>\n",
       "      <td>0</td>\n",
       "      <td>280</td>\n",
       "      <td>3</td>\n",
       "    </tr>\n",
       "    <tr>\n",
       "      <th>131</th>\n",
       "      <td>0086 CARLA VISTA</td>\n",
       "      <td>STEWART, MARK</td>\n",
       "      <td>0.0</td>\n",
       "      <td>0.0</td>\n",
       "      <td>0</td>\n",
       "      <td>352</td>\n",
       "      <td>352</td>\n",
       "      <td>8</td>\n",
       "      <td>COUNCILMEMBER CITY OF CHANDLER (vote for 3)</td>\n",
       "      <td>159</td>\n",
       "      <td>86</td>\n",
       "      <td>86</td>\n",
       "      <td>3</td>\n",
       "      <td>1</td>\n",
       "      <td>1</td>\n",
       "      <td>1119</td>\n",
       "      <td>0</td>\n",
       "      <td>222</td>\n",
       "      <td>3</td>\n",
       "    </tr>\n",
       "    <tr>\n",
       "      <th>999</th>\n",
       "      <td>0099 CHANDLER HEIGHTS</td>\n",
       "      <td>STEWART, MARK</td>\n",
       "      <td>0.0</td>\n",
       "      <td>0.0</td>\n",
       "      <td>0</td>\n",
       "      <td>352</td>\n",
       "      <td>352</td>\n",
       "      <td>8</td>\n",
       "      <td>COUNCILMEMBER CITY OF CHANDLER (vote for 3)</td>\n",
       "      <td>338</td>\n",
       "      <td>99</td>\n",
       "      <td>99</td>\n",
       "      <td>3</td>\n",
       "      <td>1</td>\n",
       "      <td>1</td>\n",
       "      <td>2905</td>\n",
       "      <td>0</td>\n",
       "      <td>839</td>\n",
       "      <td>6</td>\n",
       "    </tr>\n",
       "  </tbody>\n",
       "</table>\n",
       "</div>"
      ],
      "text/plain": [
       "             PRECINCT_NAME CANDIDATE_FULL_NAME  contest_party_id  \\\n",
       "239             0009 ALAMO       STEWART, MARK               0.0   \n",
       "378           0024 APPLEBY       STEWART, MARK               0.0   \n",
       "194         0065 BULLMOOSE       STEWART, MARK               0.0   \n",
       "131       0086 CARLA VISTA       STEWART, MARK               0.0   \n",
       "999  0099 CHANDLER HEIGHTS       STEWART, MARK               0.0   \n",
       "\n",
       "     candidate_party_id  CONTEST_TYPE  contest_id  CONTEST_ORDER  \\\n",
       "239                 0.0             0         352            352   \n",
       "378                 0.0             0         352            352   \n",
       "194                 0.0             0         352            352   \n",
       "131                 0.0             0         352            352   \n",
       "999                 0.0             0         352            352   \n",
       "\n",
       "     CANDIDATE_ORDER                            CONTEST_FULL_NAME  TOTAL  \\\n",
       "239                8  COUNCILMEMBER CITY OF CHANDLER (vote for 3)    147   \n",
       "378                8  COUNCILMEMBER CITY OF CHANDLER (vote for 3)    214   \n",
       "194                8  COUNCILMEMBER CITY OF CHANDLER (vote for 3)    113   \n",
       "131                8  COUNCILMEMBER CITY OF CHANDLER (vote for 3)    159   \n",
       "999                8  COUNCILMEMBER CITY OF CHANDLER (vote for 3)    338   \n",
       "\n",
       "     PRECINCT_ID  precinct_order  contest_vote_for  PROCESSED_DONE  \\\n",
       "239            9               9                 3               1   \n",
       "378           24              24                 3               1   \n",
       "194           65              65                 3               1   \n",
       "131           86              86                 3               1   \n",
       "999           99              99                 3               1   \n",
       "\n",
       "     PROCESSED_STARTED  CONTEST_TOTAL  IS_WRITEIN  undervote  overvote  \n",
       "239                  1           1254           0        381         9  \n",
       "378                  1           1770           0        558        12  \n",
       "194                  1            857           0        280         3  \n",
       "131                  1           1119           0        222         3  \n",
       "999                  1           2905           0        839         6  "
      ]
     },
     "execution_count": 75,
     "metadata": {},
     "output_type": "execute_result"
    }
   ],
   "source": [
    "data = pd.read_csv(\"../PrecinctDetail.csv\", iterator=True, chunksize=1000)\n",
    "data = pd.concat([chunk[chunk['CANDIDATE_FULL_NAME'] == 'STEWART, MARK'] for chunk in data])\n",
    "data.head()"
   ]
  },
  {
   "cell_type": "code",
   "execution_count": 76,
   "metadata": {
    "collapsed": false
   },
   "outputs": [
    {
     "data": {
      "text/html": [
       "<div>\n",
       "<table border=\"1\" class=\"dataframe\">\n",
       "  <thead>\n",
       "    <tr style=\"text-align: right;\">\n",
       "      <th></th>\n",
       "      <th>contest_party_id</th>\n",
       "      <th>candidate_party_id</th>\n",
       "      <th>CONTEST_TYPE</th>\n",
       "      <th>contest_id</th>\n",
       "      <th>CONTEST_ORDER</th>\n",
       "      <th>CANDIDATE_ORDER</th>\n",
       "      <th>TOTAL</th>\n",
       "      <th>PRECINCT_ID</th>\n",
       "      <th>precinct_order</th>\n",
       "      <th>contest_vote_for</th>\n",
       "      <th>PROCESSED_DONE</th>\n",
       "      <th>PROCESSED_STARTED</th>\n",
       "      <th>CONTEST_TOTAL</th>\n",
       "      <th>IS_WRITEIN</th>\n",
       "      <th>undervote</th>\n",
       "      <th>overvote</th>\n",
       "    </tr>\n",
       "  </thead>\n",
       "  <tbody>\n",
       "    <tr>\n",
       "      <th>count</th>\n",
       "      <td>43.0</td>\n",
       "      <td>43.0</td>\n",
       "      <td>43.0</td>\n",
       "      <td>43.0</td>\n",
       "      <td>43.0</td>\n",
       "      <td>43.0</td>\n",
       "      <td>43.000000</td>\n",
       "      <td>43.000000</td>\n",
       "      <td>43.000000</td>\n",
       "      <td>43.0</td>\n",
       "      <td>43.0</td>\n",
       "      <td>43.0</td>\n",
       "      <td>43.000000</td>\n",
       "      <td>43.0</td>\n",
       "      <td>43.000000</td>\n",
       "      <td>43.000000</td>\n",
       "    </tr>\n",
       "    <tr>\n",
       "      <th>mean</th>\n",
       "      <td>0.0</td>\n",
       "      <td>0.0</td>\n",
       "      <td>0.0</td>\n",
       "      <td>352.0</td>\n",
       "      <td>352.0</td>\n",
       "      <td>8.0</td>\n",
       "      <td>179.976744</td>\n",
       "      <td>290.186047</td>\n",
       "      <td>290.186047</td>\n",
       "      <td>3.0</td>\n",
       "      <td>1.0</td>\n",
       "      <td>1.0</td>\n",
       "      <td>1432.720930</td>\n",
       "      <td>0.0</td>\n",
       "      <td>440.883721</td>\n",
       "      <td>7.534884</td>\n",
       "    </tr>\n",
       "    <tr>\n",
       "      <th>std</th>\n",
       "      <td>0.0</td>\n",
       "      <td>0.0</td>\n",
       "      <td>0.0</td>\n",
       "      <td>0.0</td>\n",
       "      <td>0.0</td>\n",
       "      <td>0.0</td>\n",
       "      <td>94.898815</td>\n",
       "      <td>190.730208</td>\n",
       "      <td>190.730208</td>\n",
       "      <td>0.0</td>\n",
       "      <td>0.0</td>\n",
       "      <td>0.0</td>\n",
       "      <td>733.514577</td>\n",
       "      <td>0.0</td>\n",
       "      <td>237.856220</td>\n",
       "      <td>5.252432</td>\n",
       "    </tr>\n",
       "    <tr>\n",
       "      <th>min</th>\n",
       "      <td>0.0</td>\n",
       "      <td>0.0</td>\n",
       "      <td>0.0</td>\n",
       "      <td>352.0</td>\n",
       "      <td>352.0</td>\n",
       "      <td>8.0</td>\n",
       "      <td>63.000000</td>\n",
       "      <td>9.000000</td>\n",
       "      <td>9.000000</td>\n",
       "      <td>3.0</td>\n",
       "      <td>1.0</td>\n",
       "      <td>1.0</td>\n",
       "      <td>508.000000</td>\n",
       "      <td>0.0</td>\n",
       "      <td>146.000000</td>\n",
       "      <td>0.000000</td>\n",
       "    </tr>\n",
       "    <tr>\n",
       "      <th>25%</th>\n",
       "      <td>0.0</td>\n",
       "      <td>0.0</td>\n",
       "      <td>0.0</td>\n",
       "      <td>352.0</td>\n",
       "      <td>352.0</td>\n",
       "      <td>8.0</td>\n",
       "      <td>115.000000</td>\n",
       "      <td>124.500000</td>\n",
       "      <td>124.500000</td>\n",
       "      <td>3.0</td>\n",
       "      <td>1.0</td>\n",
       "      <td>1.0</td>\n",
       "      <td>883.000000</td>\n",
       "      <td>0.0</td>\n",
       "      <td>261.000000</td>\n",
       "      <td>3.000000</td>\n",
       "    </tr>\n",
       "    <tr>\n",
       "      <th>50%</th>\n",
       "      <td>0.0</td>\n",
       "      <td>0.0</td>\n",
       "      <td>0.0</td>\n",
       "      <td>352.0</td>\n",
       "      <td>352.0</td>\n",
       "      <td>8.0</td>\n",
       "      <td>157.000000</td>\n",
       "      <td>239.000000</td>\n",
       "      <td>239.000000</td>\n",
       "      <td>3.0</td>\n",
       "      <td>1.0</td>\n",
       "      <td>1.0</td>\n",
       "      <td>1219.000000</td>\n",
       "      <td>0.0</td>\n",
       "      <td>387.000000</td>\n",
       "      <td>6.000000</td>\n",
       "    </tr>\n",
       "    <tr>\n",
       "      <th>75%</th>\n",
       "      <td>0.0</td>\n",
       "      <td>0.0</td>\n",
       "      <td>0.0</td>\n",
       "      <td>352.0</td>\n",
       "      <td>352.0</td>\n",
       "      <td>8.0</td>\n",
       "      <td>215.000000</td>\n",
       "      <td>410.000000</td>\n",
       "      <td>410.000000</td>\n",
       "      <td>3.0</td>\n",
       "      <td>1.0</td>\n",
       "      <td>1.0</td>\n",
       "      <td>1802.500000</td>\n",
       "      <td>0.0</td>\n",
       "      <td>563.000000</td>\n",
       "      <td>9.000000</td>\n",
       "    </tr>\n",
       "    <tr>\n",
       "      <th>max</th>\n",
       "      <td>0.0</td>\n",
       "      <td>0.0</td>\n",
       "      <td>0.0</td>\n",
       "      <td>352.0</td>\n",
       "      <td>352.0</td>\n",
       "      <td>8.0</td>\n",
       "      <td>551.000000</td>\n",
       "      <td>688.000000</td>\n",
       "      <td>688.000000</td>\n",
       "      <td>3.0</td>\n",
       "      <td>1.0</td>\n",
       "      <td>1.0</td>\n",
       "      <td>4150.000000</td>\n",
       "      <td>0.0</td>\n",
       "      <td>1316.000000</td>\n",
       "      <td>24.000000</td>\n",
       "    </tr>\n",
       "  </tbody>\n",
       "</table>\n",
       "</div>"
      ],
      "text/plain": [
       "       contest_party_id  candidate_party_id  CONTEST_TYPE  contest_id  \\\n",
       "count              43.0                43.0          43.0        43.0   \n",
       "mean                0.0                 0.0           0.0       352.0   \n",
       "std                 0.0                 0.0           0.0         0.0   \n",
       "min                 0.0                 0.0           0.0       352.0   \n",
       "25%                 0.0                 0.0           0.0       352.0   \n",
       "50%                 0.0                 0.0           0.0       352.0   \n",
       "75%                 0.0                 0.0           0.0       352.0   \n",
       "max                 0.0                 0.0           0.0       352.0   \n",
       "\n",
       "       CONTEST_ORDER  CANDIDATE_ORDER       TOTAL  PRECINCT_ID  \\\n",
       "count           43.0             43.0   43.000000    43.000000   \n",
       "mean           352.0              8.0  179.976744   290.186047   \n",
       "std              0.0              0.0   94.898815   190.730208   \n",
       "min            352.0              8.0   63.000000     9.000000   \n",
       "25%            352.0              8.0  115.000000   124.500000   \n",
       "50%            352.0              8.0  157.000000   239.000000   \n",
       "75%            352.0              8.0  215.000000   410.000000   \n",
       "max            352.0              8.0  551.000000   688.000000   \n",
       "\n",
       "       precinct_order  contest_vote_for  PROCESSED_DONE  PROCESSED_STARTED  \\\n",
       "count       43.000000              43.0            43.0               43.0   \n",
       "mean       290.186047               3.0             1.0                1.0   \n",
       "std        190.730208               0.0             0.0                0.0   \n",
       "min          9.000000               3.0             1.0                1.0   \n",
       "25%        124.500000               3.0             1.0                1.0   \n",
       "50%        239.000000               3.0             1.0                1.0   \n",
       "75%        410.000000               3.0             1.0                1.0   \n",
       "max        688.000000               3.0             1.0                1.0   \n",
       "\n",
       "       CONTEST_TOTAL  IS_WRITEIN    undervote   overvote  \n",
       "count      43.000000        43.0    43.000000  43.000000  \n",
       "mean     1432.720930         0.0   440.883721   7.534884  \n",
       "std       733.514577         0.0   237.856220   5.252432  \n",
       "min       508.000000         0.0   146.000000   0.000000  \n",
       "25%       883.000000         0.0   261.000000   3.000000  \n",
       "50%      1219.000000         0.0   387.000000   6.000000  \n",
       "75%      1802.500000         0.0   563.000000   9.000000  \n",
       "max      4150.000000         0.0  1316.000000  24.000000  "
      ]
     },
     "execution_count": 76,
     "metadata": {},
     "output_type": "execute_result"
    }
   ],
   "source": [
    "data.describe()"
   ]
  },
  {
   "cell_type": "code",
   "execution_count": 77,
   "metadata": {
    "collapsed": false
   },
   "outputs": [
    {
     "data": {
      "text/plain": [
       "count     43.000000\n",
       "mean     179.976744\n",
       "std       94.898815\n",
       "min       63.000000\n",
       "25%      115.000000\n",
       "50%      157.000000\n",
       "75%      215.000000\n",
       "max      551.000000\n",
       "Name: TOTAL, dtype: float64"
      ]
     },
     "execution_count": 77,
     "metadata": {},
     "output_type": "execute_result"
    }
   ],
   "source": [
    "data['TOTAL'].describe()"
   ]
  },
  {
   "cell_type": "code",
   "execution_count": 78,
   "metadata": {
    "collapsed": false
   },
   "outputs": [
    {
     "data": {
      "text/plain": [
       "PRECINCT_NAME           object\n",
       "CANDIDATE_FULL_NAME     object\n",
       "contest_party_id       float64\n",
       "candidate_party_id     float64\n",
       "CONTEST_TYPE             int64\n",
       "contest_id               int64\n",
       "CONTEST_ORDER            int64\n",
       "CANDIDATE_ORDER          int64\n",
       "CONTEST_FULL_NAME       object\n",
       "TOTAL                    int64\n",
       "PRECINCT_ID              int64\n",
       "precinct_order           int64\n",
       "contest_vote_for         int64\n",
       "PROCESSED_DONE           int64\n",
       "PROCESSED_STARTED        int64\n",
       "CONTEST_TOTAL            int64\n",
       "IS_WRITEIN               int64\n",
       "undervote                int64\n",
       "overvote                 int64\n",
       "dtype: object"
      ]
     },
     "execution_count": 78,
     "metadata": {},
     "output_type": "execute_result"
    }
   ],
   "source": [
    "data.dtypes"
   ]
  },
  {
   "cell_type": "code",
   "execution_count": 79,
   "metadata": {
    "collapsed": false
   },
   "outputs": [
    {
     "ename": "TypeError",
     "evalue": "'function' object is not iterable",
     "output_type": "error",
     "traceback": [
      "\u001b[0;31m---------------------------------------------------------------------------\u001b[0m",
      "\u001b[0;31mTypeError\u001b[0m                                 Traceback (most recent call last)",
      "\u001b[0;32m<ipython-input-79-fc4a9aaf6efd>\u001b[0m in \u001b[0;36m<module>\u001b[0;34m()\u001b[0m\n\u001b[0;32m----> 1\u001b[0;31m \u001b[0mdata\u001b[0m\u001b[0;34m[\u001b[0m\u001b[0;34m'CANDIDATE_FULL_NAME'\u001b[0m\u001b[0;34m]\u001b[0m\u001b[0;34m.\u001b[0m\u001b[0mfilter\u001b[0m\u001b[0;34m(\u001b[0m\u001b[0;32mlambda\u001b[0m \u001b[0mx\u001b[0m\u001b[0;34m:\u001b[0m \u001b[0mx\u001b[0m \u001b[0;34m==\u001b[0m \u001b[0;34m'STEWART, MARK'\u001b[0m\u001b[0;34m)\u001b[0m\u001b[0;34m\u001b[0m\u001b[0m\n\u001b[0m",
      "\u001b[0;32m/Users/davidmonaghan/py3_kernel/lib/python3.5/site-packages/pandas/core/generic.py\u001b[0m in \u001b[0;36mfilter\u001b[0;34m(self, items, like, regex, axis)\u001b[0m\n\u001b[1;32m   2387\u001b[0m         \u001b[0;32mif\u001b[0m \u001b[0mitems\u001b[0m \u001b[0;32mis\u001b[0m \u001b[0;32mnot\u001b[0m \u001b[0;32mNone\u001b[0m\u001b[0;34m:\u001b[0m\u001b[0;34m\u001b[0m\u001b[0m\n\u001b[1;32m   2388\u001b[0m             return self.reindex(**{axis_name:\n\u001b[0;32m-> 2389\u001b[0;31m                                    [r for r in items if r in axis_values]})\n\u001b[0m\u001b[1;32m   2390\u001b[0m         \u001b[0;32melif\u001b[0m \u001b[0mlike\u001b[0m\u001b[0;34m:\u001b[0m\u001b[0;34m\u001b[0m\u001b[0m\n\u001b[1;32m   2391\u001b[0m             matchf = lambda x: (like in x if isinstance(x, string_types) else\n",
      "\u001b[0;31mTypeError\u001b[0m: 'function' object is not iterable"
     ]
    }
   ],
   "source": []
  },
  {
   "cell_type": "code",
   "execution_count": 80,
   "metadata": {
    "collapsed": false
   },
   "outputs": [
    {
     "data": {
      "text/html": [
       "<div>\n",
       "<table border=\"1\" class=\"dataframe\">\n",
       "  <thead>\n",
       "    <tr style=\"text-align: right;\">\n",
       "      <th></th>\n",
       "      <th>CANDIDATE_FULL_NAME</th>\n",
       "      <th>TOTAL</th>\n",
       "      <th>PRECINCT_NAME</th>\n",
       "    </tr>\n",
       "  </thead>\n",
       "  <tbody>\n",
       "    <tr>\n",
       "      <th>239</th>\n",
       "      <td>STEWART, MARK</td>\n",
       "      <td>147</td>\n",
       "      <td>0009 ALAMO</td>\n",
       "    </tr>\n",
       "    <tr>\n",
       "      <th>378</th>\n",
       "      <td>STEWART, MARK</td>\n",
       "      <td>214</td>\n",
       "      <td>0024 APPLEBY</td>\n",
       "    </tr>\n",
       "    <tr>\n",
       "      <th>194</th>\n",
       "      <td>STEWART, MARK</td>\n",
       "      <td>113</td>\n",
       "      <td>0065 BULLMOOSE</td>\n",
       "    </tr>\n",
       "    <tr>\n",
       "      <th>131</th>\n",
       "      <td>STEWART, MARK</td>\n",
       "      <td>159</td>\n",
       "      <td>0086 CARLA VISTA</td>\n",
       "    </tr>\n",
       "    <tr>\n",
       "      <th>999</th>\n",
       "      <td>STEWART, MARK</td>\n",
       "      <td>338</td>\n",
       "      <td>0099 CHANDLER HEIGHTS</td>\n",
       "    </tr>\n",
       "  </tbody>\n",
       "</table>\n",
       "</div>"
      ],
      "text/plain": [
       "    CANDIDATE_FULL_NAME  TOTAL          PRECINCT_NAME\n",
       "239       STEWART, MARK    147             0009 ALAMO\n",
       "378       STEWART, MARK    214           0024 APPLEBY\n",
       "194       STEWART, MARK    113         0065 BULLMOOSE\n",
       "131       STEWART, MARK    159       0086 CARLA VISTA\n",
       "999       STEWART, MARK    338  0099 CHANDLER HEIGHTS"
      ]
     },
     "execution_count": 80,
     "metadata": {},
     "output_type": "execute_result"
    }
   ],
   "source": [
    "candidates = data[['CANDIDATE_FULL_NAME', 'TOTAL', 'PRECINCT_NAME']]\n",
    "candidates.head()"
   ]
  },
  {
   "cell_type": "code",
   "execution_count": null,
   "metadata": {
    "collapsed": true
   },
   "outputs": [],
   "source": []
  },
  {
   "cell_type": "code",
   "execution_count": 81,
   "metadata": {
    "collapsed": false
   },
   "outputs": [
    {
     "data": {
      "text/plain": [
       "PRECINCT_NAME\n",
       "0009 ALAMO               1\n",
       "0024 APPLEBY             1\n",
       "0065 BULLMOOSE           1\n",
       "0086 CARLA VISTA         1\n",
       "0099 CHANDLER HEIGHTS    1\n",
       "0102 CHILTON             1\n",
       "0113 CLOUD               1\n",
       "0118 COLONIA             1\n",
       "0122 COMMONWEALTH        1\n",
       "0123 COMPADRE            1\n",
       "0124 COMSTOCK            1\n",
       "0125 CONCORD             1\n",
       "0135 CORONA              1\n",
       "0162 DANYELL             1\n",
       "0169 DEL RIO             1\n",
       "0184 DESOTO              1\n",
       "0190 DOBSON PARK         1\n",
       "0199 DUBLIN              1\n",
       "0229 FOLLEY              1\n",
       "0234 FOX CROSSING        1\n",
       "0238 FULTON RANCH        1\n",
       "0239 GALVESTON           1\n",
       "0246 GERMANN             1\n",
       "0247 GERONIMO            1\n",
       "0248 GILA                1\n",
       "0322 JASPER              1\n",
       "0327 JUPITER             1\n",
       "0347 LANTANA CANYON      1\n",
       "0348 LAREDO              1\n",
       "0369 LONGHORN            1\n",
       "0404 MCKEMY              1\n",
       "0405 MCQUEEN             1\n",
       "0415 MISSION             1\n",
       "0431 MUSKET              1\n",
       "0436 NIGHTINGALE         1\n",
       "0440 OAKGROVE            1\n",
       "0550 SAN MARCOS          1\n",
       "0601 SPRINGS             1\n",
       "0611 STELLAR             1\n",
       "0617 SUN GROVES          1\n",
       "0668 VELERO              1\n",
       "0669 VERANO              1\n",
       "0688 WENDY               1\n",
       "dtype: int64"
      ]
     },
     "execution_count": 81,
     "metadata": {},
     "output_type": "execute_result"
    }
   ],
   "source": [
    "candidate_group = candidates.groupby('PRECINCT_NAME')\n",
    "candidate_group.size()"
   ]
  },
  {
   "cell_type": "code",
   "execution_count": null,
   "metadata": {
    "collapsed": true
   },
   "outputs": [],
   "source": []
  },
  {
   "cell_type": "code",
   "execution_count": 86,
   "metadata": {
    "collapsed": false
   },
   "outputs": [
    {
     "name": "stderr",
     "output_type": "stream",
     "text": [
      "/Users/davidmonaghan/py3_kernel/lib/python3.5/site-packages/ipykernel/__main__.py:3: FutureWarning: sort(columns=....) is deprecated, use sort_values(by=.....)\n",
      "  app.launch_new_instance()\n"
     ]
    },
    {
     "data": {
      "text/plain": [
       "<matplotlib.axes._subplots.AxesSubplot at 0x10b530e48>"
      ]
     },
     "execution_count": 86,
     "metadata": {},
     "output_type": "execute_result"
    },
    {
     "data": {
      "image/png": "[encoded data removed]",
      "text/plain": [
       "<matplotlib.figure.Figure at 0x10b0e59b0>"
      ]
     },
     "metadata": {},
     "output_type": "display_data"
    }
   ],
   "source": [
    "totals = candidate_group.sum()\n",
    "#totals.sort(columns='TOTAL').head()\n",
    "totals.sort(columns='TOTAL',ascending=False).head(19).plot(kind='bar')"
   ]
  },
  {
   "cell_type": "code",
   "execution_count": 87,
   "metadata": {
    "collapsed": false
   },
   "outputs": [
    {
     "name": "stderr",
     "output_type": "stream",
     "text": [
      "/Users/davidmonaghan/py3_kernel/lib/python3.5/site-packages/ipykernel/__main__.py:1: FutureWarning: sort(columns=....) is deprecated, use sort_values(by=.....)\n",
      "  if __name__ == '__main__':\n"
     ]
    },
    {
     "data": {
      "text/plain": [
       "<matplotlib.axes._subplots.AxesSubplot at 0x10b9aa278>"
      ]
     },
     "execution_count": 87,
     "metadata": {},
     "output_type": "execute_result"
    },
    {
     "data": {
      "image/png": "[encoded data removed]",
      "text/plain": [
       "<matplotlib.figure.Figure at 0x10b9da748>"
      ]
     },
     "metadata": {},
     "output_type": "display_data"
    }
   ],
   "source": [
    "totals.sort(columns='TOTAL',ascending=True).head(19).plot(kind='bar')"
   ]
  },
  {
   "cell_type": "code",
   "execution_count": 89,
   "metadata": {
    "collapsed": false
   },
   "outputs": [
    {
     "name": "stderr",
     "output_type": "stream",
     "text": [
      "/Users/davidmonaghan/py3_kernel/lib/python3.5/site-packages/ipykernel/__main__.py:1: FutureWarning: sort(columns=....) is deprecated, use sort_values(by=.....)\n",
      "  if __name__ == '__main__':\n"
     ]
    },
    {
     "data": {
      "text/html": [
       "<div>\n",
       "<table border=\"1\" class=\"dataframe\">\n",
       "  <thead>\n",
       "    <tr style=\"text-align: right;\">\n",
       "      <th></th>\n",
       "      <th>TOTAL</th>\n",
       "    </tr>\n",
       "    <tr>\n",
       "      <th>PRECINCT_NAME</th>\n",
       "      <th></th>\n",
       "    </tr>\n",
       "  </thead>\n",
       "  <tbody>\n",
       "    <tr>\n",
       "      <th>0668 VELERO</th>\n",
       "      <td>63</td>\n",
       "    </tr>\n",
       "    <tr>\n",
       "      <th>0122 COMMONWEALTH</th>\n",
       "      <td>67</td>\n",
       "    </tr>\n",
       "    <tr>\n",
       "      <th>0247 GERONIMO</th>\n",
       "      <td>83</td>\n",
       "    </tr>\n",
       "    <tr>\n",
       "      <th>0102 CHILTON</th>\n",
       "      <td>83</td>\n",
       "    </tr>\n",
       "    <tr>\n",
       "      <th>0601 SPRINGS</th>\n",
       "      <td>86</td>\n",
       "    </tr>\n",
       "    <tr>\n",
       "      <th>0135 CORONA</th>\n",
       "      <td>95</td>\n",
       "    </tr>\n",
       "    <tr>\n",
       "      <th>0184 DESOTO</th>\n",
       "      <td>100</td>\n",
       "    </tr>\n",
       "    <tr>\n",
       "      <th>0688 WENDY</th>\n",
       "      <td>107</td>\n",
       "    </tr>\n",
       "    <tr>\n",
       "      <th>0550 SAN MARCOS</th>\n",
       "      <td>111</td>\n",
       "    </tr>\n",
       "    <tr>\n",
       "      <th>0065 BULLMOOSE</th>\n",
       "      <td>113</td>\n",
       "    </tr>\n",
       "    <tr>\n",
       "      <th>0190 DOBSON PARK</th>\n",
       "      <td>114</td>\n",
       "    </tr>\n",
       "    <tr>\n",
       "      <th>0162 DANYELL</th>\n",
       "      <td>116</td>\n",
       "    </tr>\n",
       "    <tr>\n",
       "      <th>0440 OAKGROVE</th>\n",
       "      <td>117</td>\n",
       "    </tr>\n",
       "    <tr>\n",
       "      <th>0404 MCKEMY</th>\n",
       "      <td>127</td>\n",
       "    </tr>\n",
       "    <tr>\n",
       "      <th>0322 JASPER</th>\n",
       "      <td>131</td>\n",
       "    </tr>\n",
       "    <tr>\n",
       "      <th>0125 CONCORD</th>\n",
       "      <td>131</td>\n",
       "    </tr>\n",
       "    <tr>\n",
       "      <th>0124 COMSTOCK</th>\n",
       "      <td>133</td>\n",
       "    </tr>\n",
       "    <tr>\n",
       "      <th>0113 CLOUD</th>\n",
       "      <td>135</td>\n",
       "    </tr>\n",
       "    <tr>\n",
       "      <th>0415 MISSION</th>\n",
       "      <td>137</td>\n",
       "    </tr>\n",
       "    <tr>\n",
       "      <th>0009 ALAMO</th>\n",
       "      <td>147</td>\n",
       "    </tr>\n",
       "    <tr>\n",
       "      <th>0199 DUBLIN</th>\n",
       "      <td>149</td>\n",
       "    </tr>\n",
       "    <tr>\n",
       "      <th>0669 VERANO</th>\n",
       "      <td>157</td>\n",
       "    </tr>\n",
       "    <tr>\n",
       "      <th>0086 CARLA VISTA</th>\n",
       "      <td>159</td>\n",
       "    </tr>\n",
       "    <tr>\n",
       "      <th>0436 NIGHTINGALE</th>\n",
       "      <td>164</td>\n",
       "    </tr>\n",
       "    <tr>\n",
       "      <th>0617 SUN GROVES</th>\n",
       "      <td>172</td>\n",
       "    </tr>\n",
       "    <tr>\n",
       "      <th>0234 FOX CROSSING</th>\n",
       "      <td>176</td>\n",
       "    </tr>\n",
       "    <tr>\n",
       "      <th>0327 JUPITER</th>\n",
       "      <td>178</td>\n",
       "    </tr>\n",
       "    <tr>\n",
       "      <th>0169 DEL RIO</th>\n",
       "      <td>180</td>\n",
       "    </tr>\n",
       "    <tr>\n",
       "      <th>0348 LAREDO</th>\n",
       "      <td>203</td>\n",
       "    </tr>\n",
       "    <tr>\n",
       "      <th>0248 GILA</th>\n",
       "      <td>212</td>\n",
       "    </tr>\n",
       "    <tr>\n",
       "      <th>0229 FOLLEY</th>\n",
       "      <td>213</td>\n",
       "    </tr>\n",
       "    <tr>\n",
       "      <th>0024 APPLEBY</th>\n",
       "      <td>214</td>\n",
       "    </tr>\n",
       "    <tr>\n",
       "      <th>0431 MUSKET</th>\n",
       "      <td>216</td>\n",
       "    </tr>\n",
       "    <tr>\n",
       "      <th>0611 STELLAR</th>\n",
       "      <td>218</td>\n",
       "    </tr>\n",
       "    <tr>\n",
       "      <th>0347 LANTANA CANYON</th>\n",
       "      <td>228</td>\n",
       "    </tr>\n",
       "    <tr>\n",
       "      <th>0369 LONGHORN</th>\n",
       "      <td>267</td>\n",
       "    </tr>\n",
       "    <tr>\n",
       "      <th>0239 GALVESTON</th>\n",
       "      <td>275</td>\n",
       "    </tr>\n",
       "    <tr>\n",
       "      <th>0123 COMPADRE</th>\n",
       "      <td>293</td>\n",
       "    </tr>\n",
       "    <tr>\n",
       "      <th>0238 FULTON RANCH</th>\n",
       "      <td>304</td>\n",
       "    </tr>\n",
       "    <tr>\n",
       "      <th>0118 COLONIA</th>\n",
       "      <td>325</td>\n",
       "    </tr>\n",
       "    <tr>\n",
       "      <th>0099 CHANDLER HEIGHTS</th>\n",
       "      <td>338</td>\n",
       "    </tr>\n",
       "    <tr>\n",
       "      <th>0246 GERMANN</th>\n",
       "      <td>351</td>\n",
       "    </tr>\n",
       "    <tr>\n",
       "      <th>0405 MCQUEEN</th>\n",
       "      <td>551</td>\n",
       "    </tr>\n",
       "  </tbody>\n",
       "</table>\n",
       "</div>"
      ],
      "text/plain": [
       "                       TOTAL\n",
       "PRECINCT_NAME               \n",
       "0668 VELERO               63\n",
       "0122 COMMONWEALTH         67\n",
       "0247 GERONIMO             83\n",
       "0102 CHILTON              83\n",
       "0601 SPRINGS              86\n",
       "0135 CORONA               95\n",
       "0184 DESOTO              100\n",
       "0688 WENDY               107\n",
       "0550 SAN MARCOS          111\n",
       "0065 BULLMOOSE           113\n",
       "0190 DOBSON PARK         114\n",
       "0162 DANYELL             116\n",
       "0440 OAKGROVE            117\n",
       "0404 MCKEMY              127\n",
       "0322 JASPER              131\n",
       "0125 CONCORD             131\n",
       "0124 COMSTOCK            133\n",
       "0113 CLOUD               135\n",
       "0415 MISSION             137\n",
       "0009 ALAMO               147\n",
       "0199 DUBLIN              149\n",
       "0669 VERANO              157\n",
       "0086 CARLA VISTA         159\n",
       "0436 NIGHTINGALE         164\n",
       "0617 SUN GROVES          172\n",
       "0234 FOX CROSSING        176\n",
       "0327 JUPITER             178\n",
       "0169 DEL RIO             180\n",
       "0348 LAREDO              203\n",
       "0248 GILA                212\n",
       "0229 FOLLEY              213\n",
       "0024 APPLEBY             214\n",
       "0431 MUSKET              216\n",
       "0611 STELLAR             218\n",
       "0347 LANTANA CANYON      228\n",
       "0369 LONGHORN            267\n",
       "0239 GALVESTON           275\n",
       "0123 COMPADRE            293\n",
       "0238 FULTON RANCH        304\n",
       "0118 COLONIA             325\n",
       "0099 CHANDLER HEIGHTS    338\n",
       "0246 GERMANN             351\n",
       "0405 MCQUEEN             551"
      ]
     },
     "execution_count": 89,
     "metadata": {},
     "output_type": "execute_result"
    }
   ],
   "source": [
    "totals.sort(columns='TOTAL',ascending=True)"
   ]
  },
  {
   "cell_type": "code",
   "execution_count": null,
   "metadata": {
    "collapsed": true
   },
   "outputs": [],
   "source": []
  },
  {
   "cell_type": "code",
   "execution_count": null,
   "metadata": {
    "collapsed": true
   },
   "outputs": [],
   "source": []
  },
  {
   "cell_type": "code",
   "execution_count": null,
   "metadata": {
    "collapsed": true
   },
   "outputs": [],
   "source": []
  },
  {
   "cell_type": "code",
   "execution_count": null,
   "metadata": {
    "collapsed": true
   },
   "outputs": [],
   "source": []
  },
  {
   "cell_type": "code",
   "execution_count": null,
   "metadata": {
    "collapsed": true
   },
   "outputs": [],
   "source": []
  },
  {
   "cell_type": "code",
   "execution_count": null,
   "metadata": {
    "collapsed": true
   },
   "outputs": [],
   "source": []
  },
  {
   "cell_type": "code",
   "execution_count": null,
   "metadata": {
    "collapsed": true
   },
   "outputs": [],
   "source": []
  },
  {
   "cell_type": "code",
   "execution_count": null,
   "metadata": {
    "collapsed": true
   },
   "outputs": [],
   "source": []
  },
  {
   "cell_type": "code",
   "execution_count": null,
   "metadata": {
    "collapsed": true
   },
   "outputs": [],
   "source": []
  },
  {
   "cell_type": "code",
   "execution_count": null,
   "metadata": {
    "collapsed": true
   },
   "outputs": [],
   "source": []
  },
  {
   "cell_type": "code",
   "execution_count": null,
   "metadata": {
    "collapsed": true
   },
   "outputs": [],
   "source": []
  },
  {
   "cell_type": "code",
   "execution_count": null,
   "metadata": {
    "collapsed": true
   },
   "outputs": [],
   "source": []
  },
  {
   "cell_type": "code",
   "execution_count": null,
   "metadata": {
    "collapsed": true
   },
   "outputs": [],
   "source": []
  },
  {
   "cell_type": "code",
   "execution_count": null,
   "metadata": {
    "collapsed": true
   },
   "outputs": [],
   "source": []
  }
 ],
 "metadata": {
  "kernelspec": {
   "display_name": "Python 3",
   "language": "python",
   "name": "python3"
  },
  "language_info": {
   "codemirror_mode": {
    "name": "ipython",
    "version": 3
   },
   "file_extension": ".py",
   "mimetype": "text/x-python",
   "name": "python",
   "nbconvert_exporter": "python",
   "pygments_lexer": "ipython3",
   "version": "3.5.2"
  }
 },
 "nbformat": 4,
 "nbformat_minor": 1
}
